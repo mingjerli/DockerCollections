{
  "nbformat": 4,
  "nbformat_minor": 0,
  "metadata": {
    "colab": {
      "name": "Airflow.ipynb",
      "provenance": [],
      "collapsed_sections": [],
      "include_colab_link": true
    },
    "kernelspec": {
      "name": "python3",
      "display_name": "Python 3"
    }
  },
  "cells": [
    {
      "cell_type": "markdown",
      "metadata": {
        "id": "view-in-github",
        "colab_type": "text"
      },
      "source": [
        "<a href=\"https://colab.research.google.com/github/mingjerli/DockerCollections/blob/master/Airflow.ipynb\" target=\"_parent\"><img src=\"https://colab.research.google.com/assets/colab-badge.svg\" alt=\"Open In Colab\"/></a>"
      ]
    },
    {
      "cell_type": "code",
      "metadata": {
        "id": "5z3fcARcVOWk",
        "colab_type": "code",
        "colab": {}
      },
      "source": [
        ""
      ],
      "execution_count": 0,
      "outputs": []
    },
    {
      "cell_type": "markdown",
      "metadata": {
        "id": "7TrMeFjfVqdS",
        "colab_type": "text"
      },
      "source": [
        "# Apache Airflow \n",
        "\n",
        "Ming-Jer Lee(mingjerlee@mingjerlee.com)\n",
        "\n",
        "## How You Run Your Repeitive Data Science Tasks?\n",
        "\n",
        "*   Manually executing Jupyter notebook cell one by one?\n",
        "*   Typing bunch of bash command to setup environment variable then executing the task?\n",
        "*   Manually start a bash script that includes setting up environment and task?\n",
        "*   Running through a scheduler like cron?\n",
        "*   Using a job orchestrator?\n",
        "\n",
        "## What is Airflow\n",
        "\n",
        "Apache Airflow is a tool for scheduling, orchestrating and monitoring workflows programmatically. \n",
        "\n",
        "![](https://airflow.apache.org/_images/dags.png)\n",
        "\n",
        "## Airflow Concepts\n",
        "\n",
        "* DAG (Directed Acyclic Graph): a graph that glue all the tasks with inter-dependencies\n",
        "* Operator: a template for a specific type of task to be executed. Ex: `BashOperator`, `EmailOperator`, `PythonOperator`, `HttpOperator`, `MsSqlOperator`, `S3ToGoogleCloudStorageOperator`, `SageMakerModelOperator`, `DatabricksSubmitRunOperator` ...\n",
        "* Sensor: special operator which will only execute if a certain condition is met. Ex: `ExternalTaskSensor`, `HttpSensor`, `S3KeySensor`, ...\n",
        "* Task: Instance of operator/sensor defined a unit of work to be executed\n",
        "\n",
        "![](https://www.applydatascience.com/images/2018-12-11-airflow-concept/Screen%20Shot%202018-12-15%20at%208.18.10%20PM.png)\n",
        "\n",
        "## Airflow Components\n",
        "\n",
        "* WebUI: portal to view status of the DAGs\n",
        "* Metadata DB: metadata store for job status, tasks, ...\n",
        "* Scheduler: parse DAG bag, create DAG objects, trigger executors to execute tasks\n",
        "* Executor: A message queuing process that orchestrates worker process to execute tasks. Ex: LocalExecutor, CeleryExecutor, KubernetesExecutor ...\n",
        "\n",
        "![](https://miro.medium.com/max/1140/1*u6duhZD2J_i1zZ0Txq26Cg.png)\n",
        "\n",
        "## Why use Airflow\n",
        "\n",
        "* Easy to Setup Jobs:\n",
        "DAGs are written in python, which is more easier than English.\n",
        "\n",
        "* Run Task Whenever You Need:\n",
        "Schedule with ron syntax, manually trigger(no need to figure how you run it 117 days ago).\n",
        "\n",
        "* Visualization:\n",
        "See all related task in single place, no more mysterious cron job.\n",
        "\n",
        "* Secure:\n",
        "Role-based access control(RBAC) via LDAP or OAuth. \n",
        "\n",
        "* Horizontal Scale:\n",
        "EKS/AKS for KubernetesExecutor or Azure Autoscale/AWS Auto Scaling for CeleryExecutor or DaskExecutor ....\n",
        "\n",
        "* Community Adoption(as of 9/19/2019):\n",
        "\n",
        "|        | Azkaban | Luigi | Airflow |\n",
        "|--------|---------|-------|---------|\n",
        "|Adaption Companies | NA | 53+ | 310+ |\n",
        "|GitHub Stars | 2801 | 12207 | 13963 |\n",
        "|GitHub Commits | 2374 | 3831 | 7045 |\n",
        "\n",
        "* Extensible:\n",
        "Easy to define your own operator, executors.\n",
        "\n",
        "## My Airflow Experience\n",
        "\n",
        "* As Data Engineer\n",
        "    + on-perm+2 clouds, 10+ databases, 10+ data engineer, 10+ nodes, 500+ dataset(web scrapping, vendor, ), 1000+ DAGs, 10000+ tasks per day\n",
        "\n",
        "* As Data Scientist(ML Engineer)\n",
        "    + on-perm+1 cloud, 10+ models, 100+ backtesting, 5+ dashboards per day\n",
        "\n",
        "* At Home\n",
        "    + Single Linux server\n",
        "    + Collecting all my credit transactions using Plaid API \n",
        "    + Downloading videos from home security system and finding out all video with human/wildlife and my cat.\n",
        "    + Updating my customized news feed(youtube video, hackernews, stock market news)\n",
        "\n",
        "* Happy wife(an accountant)\n",
        "    + Automated payroll process reduce 8 hours job(lots of Excel files and  operations) to 10 minutes (review the number).\n",
        "    + Automated email process to clients\n",
        "\n",
        "## Monitoring \n",
        "\n",
        "### Logging\n",
        "\n",
        "With RBAC, Airflow log tells you who do what on which at when. \n",
        "Just three lines in the configuration, you can easily stream Airflow log to ElasticSearch. \n",
        "Or use Splunk or equivalent log management system...\n",
        "\n",
        "### Job Fail\n",
        "\n",
        "Email alert, PagerDuty, Jira ticket ...\n",
        "\n",
        "### Airflow Health\n",
        "\n",
        "Airflow has its own issues, like zombie tasks,webserver down, not picking up tasks ... \n",
        "Some tricks to making sure it is healthy\n",
        "* Monitoring System\n",
        "  + Grafana/DataDog to see some airflow metrics(uptime, number of task in queue, running, schedule delay)\n",
        "* Running Heartbeating DAG\n",
        "  + Execute simple task like `SELECT 1;` regularly.\n",
        "  + If fail or is not running, your monitoring system should looks different.\n",
        "\n",
        "![](https://grafana.com/api/dashboards/9672/images/6045/image)\n",
        "\n",
        "## My Thought\n",
        "\n",
        "* Airflow is not only for Data Engineering. It can be helpful for everybody. This is more like [Automate the Boring Stuff with Python](https://automatetheboringstuff.com\n",
        ") with steroid.\n",
        "* Unless you are 100% on single cloud and OK with vendor locked in. Each team should have their own Airflow instance (or your platform team need to give us access to it with proper RBAC).\n",
        "* No short cut to learn Airflow. \n",
        "    + To use `BashOperator` you need to know how to write bash script and python. You won't magically know how to write bash script by using Airflow.\n",
        "    + Source control your dag files, Dockerfiles ...\n"
      ]
    },
    {
      "cell_type": "code",
      "metadata": {
        "id": "FHMXjEDgVz__",
        "colab_type": "code",
        "colab": {}
      },
      "source": [
        ""
      ],
      "execution_count": 0,
      "outputs": []
    }
  ]
}